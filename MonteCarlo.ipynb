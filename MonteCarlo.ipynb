{
  "nbformat": 4,
  "nbformat_minor": 0,
  "metadata": {
    "colab": {
      "provenance": [],
      "toc_visible": true,
      "authorship_tag": "ABX9TyPnJIjtm/weT+A0AJ1sPO08",
      "include_colab_link": true
    },
    "kernelspec": {
      "name": "python3",
      "display_name": "Python 3"
    },
    "language_info": {
      "name": "python"
    }
  },
  "cells": [
    {
      "cell_type": "markdown",
      "metadata": {
        "id": "view-in-github",
        "colab_type": "text"
      },
      "source": [
        "<a href=\"https://colab.research.google.com/github/sandeepstele/Python-Codeforces-under-800/blob/main/MonteCarlo.ipynb\" target=\"_parent\"><img src=\"https://colab.research.google.com/assets/colab-badge.svg\" alt=\"Open In Colab\"/></a>"
      ]
    },
    {
      "cell_type": "markdown",
      "source": [
        " A card is drawn from a well-shuffled pack of 52 cards. Find the probability of getting:\n",
        "\n",
        "‘2’ of spades\n"
      ],
      "metadata": {
        "id": "z59rwBE75TWD"
      }
    },
    {
      "cell_type": "markdown",
      "source": [
        "i)Initialize a variable called \"success_count\" to 0. This variable will keep track of the number of times we draw the '2' of spades.\n",
        "\n",
        "Set the number of iterations for the Monte Carlo simulation. This determines how many times we will simulate drawing a card from the deck. Let's say we choose 1,000,000 iterations for a reasonably accurate result.\n",
        "\n",
        "Run the following steps for the specified number of iterations:\n",
        "\n",
        "a. Shuffle the deck of 52 cards randomly.\n",
        "\n",
        "b. Draw the top card from the deck.\n",
        "\n",
        "c. Check if the drawn card is the '2' of spades. If it is, increment the \"success_count\" variable by 1.\n",
        "\n",
        "After completing all the iterations, calculate the probability by dividing the \"success_count\" by the total number of iterations (1,000,000 in our case)."
      ],
      "metadata": {
        "id": "vmIOkGSi5f_-"
      }
    },
    {
      "cell_type": "code",
      "source": [
        "import random\n",
        "\n",
        "def monte_carlo_probability(iterations):\n",
        "    success_count = 0\n",
        "    deck = ['2S', '3S', '4S', '5S', '6S', '7S', '8S', '9S', '10S', 'JS', 'QS', 'KS', 'AS',\n",
        "            '2H', '3H', '4H', '5H', '6H', '7H', '8H', '9H', '10H', 'JH', 'QH', 'KH', 'AH',\n",
        "            '2D', '3D', '4D', '5D', '6D', '7D', '8D', '9D', '10D', 'JD', 'QD', 'KD', 'AD',\n",
        "            '2C', '3C', '4C', '5C', '6C', '7C', '8C', '9C', '10C', 'JC', 'QC', 'KC', 'AC']\n",
        "\n",
        "    for _ in range(iterations):\n",
        "        random.shuffle(deck)\n",
        "        drawn_card = deck[0]\n",
        "\n",
        "        if drawn_card == '2S':\n",
        "            success_count += 1\n",
        "\n",
        "    probability = success_count / iterations\n",
        "    return probability\n",
        "\n",
        "# Run the Monte Carlo simulation with 1,000,000 iterations\n",
        "iterations = 1000000\n",
        "probability = monte_carlo_probability(iterations)\n",
        "\n",
        "print(\"Probability of drawing the '2' of spades:\", probability)"
      ],
      "metadata": {
        "colab": {
          "base_uri": "https://localhost:8080/"
        },
        "id": "4_MTxGhA5kvD",
        "outputId": "2b136cc8-1c58-49ee-8bc4-08058ad305e0"
      },
      "execution_count": 2,
      "outputs": [
        {
          "output_type": "stream",
          "name": "stdout",
          "text": [
            "Probability of drawing the '2' of spades: 0.019458\n"
          ]
        }
      ]
    },
    {
      "cell_type": "markdown",
      "source": [
        "Lets verify this practically using calculations!\n",
        "Total no. of cards = 52\n",
        "\n",
        "So total no. of possible outcomes, n(S) = 52\n",
        "\n",
        "(i) Let E1 denotes the event of getting 2 of spades.\n",
        "\n",
        "No. of ‘2’ of spades = 1\n",
        "\n",
        "n(E1) = 1\n",
        "\n",
        "P (getting 2 of spades) = no. of favourable outcomes/total no. of possible outcomes of E\n",
        "\n",
        "= n(E1)/ n(S)\n",
        "\n",
        "= 1/52\n",
        "=0.0192307692307692\n",
        "\n",
        "\n",
        "we see that 0.1923 is almost equal to 0.019458 found by the Monte Carlo method."
      ],
      "metadata": {
        "id": "jSm_CbrT6cHB"
      }
    }
  ]
}